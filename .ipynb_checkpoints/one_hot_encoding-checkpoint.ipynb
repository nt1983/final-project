{
 "cells": [
  {
   "cell_type": "code",
   "execution_count": 1,
   "metadata": {},
   "outputs": [],
   "source": [
    "# Dependencies\n",
    "import pandas as pd\n",
    "import numpy as np\n",
    "\n",
    "import tensorflow\n",
    "\n",
    "from tensorflow.keras.models import Sequential\n",
    "from tensorflow.keras.layers import Dense\n",
    "from tensorflow.keras.layers import Dropout\n",
    "from tensorflow.keras.utils import to_categorical\n",
    "\n",
    "from matplotlib import pyplot as plt"
   ]
  },
  {
   "cell_type": "code",
   "execution_count": 2,
   "metadata": {},
   "outputs": [
    {
     "name": "stderr",
     "output_type": "stream",
     "text": [
      "C:\\Users\\Tolga\\miniconda3\\lib\\site-packages\\numpy\\lib\\arraysetops.py:580: FutureWarning: elementwise comparison failed; returning scalar instead, but in the future will perform elementwise comparison\n",
      "  mask |= (ar1 == a)\n"
     ]
    }
   ],
   "source": [
    "# Read data\n",
    "df = pd.read_csv('Data/Loan_status_2007-2020Q3_small.csv', index_col=0)"
   ]
  },
  {
   "cell_type": "code",
   "execution_count": 3,
   "metadata": {},
   "outputs": [],
   "source": [
    "def one_hot_encoding_append(source_df, target_df, column):\n",
    "    unique_values = source_df[column].unique()\n",
    "    for value in unique_values:\n",
    "        target_df[f'{column}_{value.lower()}'] = (source_df[column] == value).astype(int)"
   ]
  },
  {
   "cell_type": "code",
   "execution_count": 4,
   "metadata": {},
   "outputs": [],
   "source": [
    "loans_df = df.copy()\n",
    "\n",
    "one_hot_encode_columns = ['term',\n",
    " 'home_ownership',\n",
    " 'hardship_flag',\n",
    " 'debt_settlement_flag',\n",
    " 'pymnt_plan',\n",
    " 'addr_state',\n",
    " 'application_type']\n",
    "\n",
    "for column in one_hot_encode_columns:\n",
    "    one_hot_encoding_append(df, loans_df, column)"
   ]
  },
  {
   "cell_type": "code",
   "execution_count": 5,
   "metadata": {},
   "outputs": [
    {
     "name": "stdout",
     "output_type": "stream",
     "text": [
      "Reprinting 4 years --> 4\n",
      "Reprinting 2 years --> 2\n",
      "Reprinting 10+ years --> 10\n",
      "Reprinting 3 years --> 3\n",
      "Reprinting 5 years --> 5\n",
      "Reprinting 6 years --> 6\n",
      "Reprinting 1 year --> 1\n",
      "Reprinting 7 years --> 7\n",
      "Reprinting < 1 year --> 0\n",
      "Reprinting 9 years --> 9\n",
      "Reprinting 8 years --> 8\n"
     ]
    }
   ],
   "source": [
    "# Convert int_rate to float\n",
    "loans_df['int_rate'] = loans_df['int_rate'].str.rstrip('%').astype(float)/100\n",
    "loans_df['revol_util'] = loans_df['revol_util'].str.rstrip('%').astype(float)/100\n",
    "# Convert objects to datetime\n",
    "loans_df['earliest_cr_line'] = pd.to_datetime(loans_df['earliest_cr_line'],format = '%b-%Y')\n",
    "loans_df['issue_d'] = pd.to_datetime(loans_df['issue_d'],format = '%b-%Y')\n",
    "loans_df['last_pymnt_d'] = pd.to_datetime(loans_df['last_pymnt_d'],format = '%b-%Y')\n",
    "\n",
    "emp_length_value_to_years = {'4 years': 4, '2 years': 2, '10+ years': 10, '3 years': 3, '5 years': 5, '6 years': 6, '1 year': 1, '7 years': 7, '< 1 year': 0, '9 years': 9, '8 years': 8}\n",
    "for (key, value) in emp_length_value_to_years.items():\n",
    "    print(f'Reprinting {key} --> {value}')\n",
    "    loans_df.loc[df['emp_length'] == key, 'emp_length'] = value\n",
    "    \n",
    "loans_df.rename(columns={'emp_length': 'emp_length_year'}, inplace=True)\n",
    "loans_df['emp_length_year'] = loans_df['emp_length_year'].astype(int)"
   ]
  },
  {
   "cell_type": "code",
   "execution_count": 6,
   "metadata": {},
   "outputs": [
    {
     "name": "stdout",
     "output_type": "stream",
     "text": [
      "['n']\n"
     ]
    }
   ],
   "source": [
    "# Drop the column pymnt_plan, since the only value is 'n'\n",
    "print(df['pymnt_plan'].unique())\n",
    "\n",
    "one_hot_encode_columns.append('pymnt_plan')"
   ]
  },
  {
   "cell_type": "code",
   "execution_count": 7,
   "metadata": {},
   "outputs": [],
   "source": [
    "# Fully paid = 1, Charged off = 0\n",
    "loans_df['loan_status'] = loans_df['loan_status'].astype('category').cat.codes\n",
    "# A1=0, A2=1, A3=2, ... : Lower the better\n",
    "loans_df['sub_grade'] = loans_df['sub_grade'].astype('category').cat.codes\n",
    "one_hot_encode_columns.append('grade')"
   ]
  },
  {
   "cell_type": "code",
   "execution_count": 8,
   "metadata": {},
   "outputs": [],
   "source": [
    "loans_df.drop(columns=one_hot_encode_columns, inplace=True)"
   ]
  },
  {
   "cell_type": "code",
   "execution_count": 9,
   "metadata": {
    "scrolled": true
   },
   "outputs": [],
   "source": [
    "# Drop dates\n",
    "drop_dates = []\n",
    "for (ix, typ) in enumerate(loans_df.dtypes):\n",
    "    if (typ == '<M8[ns]'):\n",
    "        drop_dates.append(loans_df.columns[ix])\n",
    "        \n",
    "loans_df.drop(columns = drop_dates, inplace=True)"
   ]
  },
  {
   "cell_type": "code",
   "execution_count": 47,
   "metadata": {},
   "outputs": [
    {
     "data": {
      "text/html": [
       "<div>\n",
       "<style scoped>\n",
       "    .dataframe tbody tr th:only-of-type {\n",
       "        vertical-align: middle;\n",
       "    }\n",
       "\n",
       "    .dataframe tbody tr th {\n",
       "        vertical-align: top;\n",
       "    }\n",
       "\n",
       "    .dataframe thead th {\n",
       "        text-align: right;\n",
       "    }\n",
       "</style>\n",
       "<table border=\"1\" class=\"dataframe\">\n",
       "  <thead>\n",
       "    <tr style=\"text-align: right;\">\n",
       "      <th></th>\n",
       "      <th>loan_amnt</th>\n",
       "      <th>int_rate</th>\n",
       "      <th>installment</th>\n",
       "      <th>sub_grade</th>\n",
       "      <th>emp_length_year</th>\n",
       "      <th>annual_inc</th>\n",
       "      <th>loan_status</th>\n",
       "      <th>dti</th>\n",
       "      <th>fico_range_low</th>\n",
       "      <th>fico_range_high</th>\n",
       "      <th>...</th>\n",
       "      <th>addr_state_sd</th>\n",
       "      <th>addr_state_dc</th>\n",
       "      <th>addr_state_ne</th>\n",
       "      <th>addr_state_ia</th>\n",
       "      <th>addr_state_ms</th>\n",
       "      <th>addr_state_id</th>\n",
       "      <th>addr_state_me</th>\n",
       "      <th>addr_state_nd</th>\n",
       "      <th>application_type_individual</th>\n",
       "      <th>application_type_joint app</th>\n",
       "    </tr>\n",
       "  </thead>\n",
       "  <tbody>\n",
       "    <tr>\n",
       "      <th>42536</th>\n",
       "      <td>12000.0</td>\n",
       "      <td>0.1099</td>\n",
       "      <td>392.81</td>\n",
       "      <td>6</td>\n",
       "      <td>4</td>\n",
       "      <td>60000.0</td>\n",
       "      <td>1</td>\n",
       "      <td>4.62</td>\n",
       "      <td>720.0</td>\n",
       "      <td>724.0</td>\n",
       "      <td>...</td>\n",
       "      <td>0</td>\n",
       "      <td>0</td>\n",
       "      <td>0</td>\n",
       "      <td>0</td>\n",
       "      <td>0</td>\n",
       "      <td>0</td>\n",
       "      <td>0</td>\n",
       "      <td>0</td>\n",
       "      <td>1</td>\n",
       "      <td>0</td>\n",
       "    </tr>\n",
       "    <tr>\n",
       "      <th>42537</th>\n",
       "      <td>4800.0</td>\n",
       "      <td>0.1099</td>\n",
       "      <td>157.13</td>\n",
       "      <td>6</td>\n",
       "      <td>2</td>\n",
       "      <td>39600.0</td>\n",
       "      <td>1</td>\n",
       "      <td>2.49</td>\n",
       "      <td>755.0</td>\n",
       "      <td>759.0</td>\n",
       "      <td>...</td>\n",
       "      <td>0</td>\n",
       "      <td>0</td>\n",
       "      <td>0</td>\n",
       "      <td>0</td>\n",
       "      <td>0</td>\n",
       "      <td>0</td>\n",
       "      <td>0</td>\n",
       "      <td>0</td>\n",
       "      <td>1</td>\n",
       "      <td>0</td>\n",
       "    </tr>\n",
       "    <tr>\n",
       "      <th>42538</th>\n",
       "      <td>27050.0</td>\n",
       "      <td>0.1099</td>\n",
       "      <td>885.46</td>\n",
       "      <td>6</td>\n",
       "      <td>10</td>\n",
       "      <td>55000.0</td>\n",
       "      <td>1</td>\n",
       "      <td>22.87</td>\n",
       "      <td>730.0</td>\n",
       "      <td>734.0</td>\n",
       "      <td>...</td>\n",
       "      <td>0</td>\n",
       "      <td>0</td>\n",
       "      <td>0</td>\n",
       "      <td>0</td>\n",
       "      <td>0</td>\n",
       "      <td>0</td>\n",
       "      <td>0</td>\n",
       "      <td>0</td>\n",
       "      <td>1</td>\n",
       "      <td>0</td>\n",
       "    </tr>\n",
       "    <tr>\n",
       "      <th>42539</th>\n",
       "      <td>12000.0</td>\n",
       "      <td>0.0762</td>\n",
       "      <td>373.94</td>\n",
       "      <td>2</td>\n",
       "      <td>3</td>\n",
       "      <td>96500.0</td>\n",
       "      <td>1</td>\n",
       "      <td>12.61</td>\n",
       "      <td>705.0</td>\n",
       "      <td>709.0</td>\n",
       "      <td>...</td>\n",
       "      <td>0</td>\n",
       "      <td>0</td>\n",
       "      <td>0</td>\n",
       "      <td>0</td>\n",
       "      <td>0</td>\n",
       "      <td>0</td>\n",
       "      <td>0</td>\n",
       "      <td>0</td>\n",
       "      <td>1</td>\n",
       "      <td>0</td>\n",
       "    </tr>\n",
       "    <tr>\n",
       "      <th>42540</th>\n",
       "      <td>14000.0</td>\n",
       "      <td>0.1285</td>\n",
       "      <td>470.71</td>\n",
       "      <td>8</td>\n",
       "      <td>4</td>\n",
       "      <td>88000.0</td>\n",
       "      <td>1</td>\n",
       "      <td>10.02</td>\n",
       "      <td>670.0</td>\n",
       "      <td>674.0</td>\n",
       "      <td>...</td>\n",
       "      <td>0</td>\n",
       "      <td>0</td>\n",
       "      <td>0</td>\n",
       "      <td>0</td>\n",
       "      <td>0</td>\n",
       "      <td>0</td>\n",
       "      <td>0</td>\n",
       "      <td>0</td>\n",
       "      <td>1</td>\n",
       "      <td>0</td>\n",
       "    </tr>\n",
       "  </tbody>\n",
       "</table>\n",
       "<p>5 rows × 94 columns</p>\n",
       "</div>"
      ],
      "text/plain": [
       "       loan_amnt  int_rate  installment  sub_grade  emp_length_year  \\\n",
       "42536    12000.0    0.1099       392.81          6                4   \n",
       "42537     4800.0    0.1099       157.13          6                2   \n",
       "42538    27050.0    0.1099       885.46          6               10   \n",
       "42539    12000.0    0.0762       373.94          2                3   \n",
       "42540    14000.0    0.1285       470.71          8                4   \n",
       "\n",
       "       annual_inc  loan_status    dti  fico_range_low  fico_range_high  ...  \\\n",
       "42536     60000.0            1   4.62           720.0            724.0  ...   \n",
       "42537     39600.0            1   2.49           755.0            759.0  ...   \n",
       "42538     55000.0            1  22.87           730.0            734.0  ...   \n",
       "42539     96500.0            1  12.61           705.0            709.0  ...   \n",
       "42540     88000.0            1  10.02           670.0            674.0  ...   \n",
       "\n",
       "       addr_state_sd  addr_state_dc  addr_state_ne  addr_state_ia  \\\n",
       "42536              0              0              0              0   \n",
       "42537              0              0              0              0   \n",
       "42538              0              0              0              0   \n",
       "42539              0              0              0              0   \n",
       "42540              0              0              0              0   \n",
       "\n",
       "       addr_state_ms  addr_state_id  addr_state_me  addr_state_nd  \\\n",
       "42536              0              0              0              0   \n",
       "42537              0              0              0              0   \n",
       "42538              0              0              0              0   \n",
       "42539              0              0              0              0   \n",
       "42540              0              0              0              0   \n",
       "\n",
       "       application_type_individual  application_type_joint app  \n",
       "42536                            1                           0  \n",
       "42537                            1                           0  \n",
       "42538                            1                           0  \n",
       "42539                            1                           0  \n",
       "42540                            1                           0  \n",
       "\n",
       "[5 rows x 94 columns]"
      ]
     },
     "execution_count": 47,
     "metadata": {},
     "output_type": "execute_result"
    }
   ],
   "source": [
    "loans_df.head()"
   ]
  },
  {
   "cell_type": "code",
   "execution_count": null,
   "metadata": {},
   "outputs": [],
   "source": []
  },
  {
   "cell_type": "markdown",
   "metadata": {},
   "source": [
    "## Model"
   ]
  },
  {
   "cell_type": "code",
   "execution_count": 11,
   "metadata": {},
   "outputs": [
    {
     "name": "stdout",
     "output_type": "stream",
     "text": [
      "train_idx = 1498715\n",
      "valid_idx = 1581977\n",
      "Training set:\n"
     ]
    },
    {
     "data": {
      "text/plain": [
       "1    0.808812\n",
       "0    0.191188\n",
       "Name: loan_status, dtype: float64"
      ]
     },
     "metadata": {},
     "output_type": "display_data"
    },
    {
     "name": "stdout",
     "output_type": "stream",
     "text": [
      "Validation set:\n"
     ]
    },
    {
     "data": {
      "text/plain": [
       "1    0.82919\n",
       "0    0.17081\n",
       "Name: loan_status, dtype: float64"
      ]
     },
     "metadata": {},
     "output_type": "display_data"
    },
    {
     "name": "stdout",
     "output_type": "stream",
     "text": [
      "Test set:\n"
     ]
    },
    {
     "data": {
      "text/plain": [
       "1    0.80553\n",
       "0    0.19447\n",
       "Name: loan_status, dtype: float64"
      ]
     },
     "metadata": {},
     "output_type": "display_data"
    }
   ],
   "source": [
    "# Split the rows into train/validation/test sets\n",
    "random_state = 42\n",
    "training_frac = 0.9\n",
    "valid_frac = 0.05\n",
    "\n",
    "train_idx = int(training_frac*len(loans_df))\n",
    "valid_idx = int((training_frac+valid_frac)*len(loans_df))\n",
    "print(f'train_idx = {train_idx}')\n",
    "print(f'valid_idx = {valid_idx}')\n",
    "\n",
    "loans_df.sample(frac=1, random_state=random_state)\n",
    "loans_df_training = loans_df.iloc[0:train_idx]\n",
    "loans_df_validation = loans_df.iloc[train_idx:valid_idx]\n",
    "loans_df_test = loans_df.iloc[valid_idx:]\n",
    "\n",
    "print('Training set:')\n",
    "display(loans_df_training['loan_status'].value_counts()/len(loans_df_training))\n",
    "print('Validation set:')\n",
    "display(loans_df_validation['loan_status'].value_counts()/len(loans_df_validation))\n",
    "print('Test set:')\n",
    "display(loans_df_test['loan_status'].value_counts()/len(loans_df_test))"
   ]
  },
  {
   "cell_type": "code",
   "execution_count": 12,
   "metadata": {},
   "outputs": [],
   "source": [
    "# Classes:\n",
    "# Fully Paid == 1\n",
    "# Charged Off == 0\n",
    "num_classes = 2\n",
    "\n",
    "# Number of features are number of columns - 1 (from the output)\n",
    "num_features = len(loans_df.columns) - 1\n",
    "\n",
    "# Define inputs (X) and outputs (Y) for each set of samples\n",
    "Y_train = to_categorical(loans_df_training['loan_status'], num_classes)\n",
    "Y_valid = to_categorical(loans_df_validation['loan_status'], num_classes)\n",
    "Y_test = to_categorical(loans_df_test['loan_status'], num_classes)\n",
    "\n",
    "X_train = loans_df_training.drop(columns='loan_status').to_numpy().astype('float32')\n",
    "X_valid = loans_df_validation.drop(columns='loan_status').to_numpy().astype('float32')\n",
    "X_test = loans_df_test.drop(columns='loan_status').to_numpy().astype('float32')"
   ]
  },
  {
   "cell_type": "code",
   "execution_count": 13,
   "metadata": {},
   "outputs": [
    {
     "name": "stdout",
     "output_type": "stream",
     "text": [
      "Number of Features: 93\n"
     ]
    }
   ],
   "source": [
    "print(f'Number of Features: {num_features}')\n"
   ]
  },
  {
   "cell_type": "code",
   "execution_count": 35,
   "metadata": {},
   "outputs": [
    {
     "name": "stdout",
     "output_type": "stream",
     "text": [
      "Model: \"sequential_6\"\n",
      "_________________________________________________________________\n",
      "Layer (type)                 Output Shape              Param #   \n",
      "=================================================================\n",
      "dense_23 (Dense)             (None, 128)               12032     \n",
      "_________________________________________________________________\n",
      "dense_24 (Dense)             (None, 2)                 258       \n",
      "=================================================================\n",
      "Total params: 12,290\n",
      "Trainable params: 12,290\n",
      "Non-trainable params: 0\n",
      "_________________________________________________________________\n"
     ]
    }
   ],
   "source": [
    "# Create the model\n",
    "input_shape = (num_features,)\n",
    "\n",
    "model = Sequential()\n",
    "model.add(Dense(128, input_shape=input_shape, activation='relu'))\n",
    "# model.add(Dense(128, activation='relu'))\n",
    "model.add(Dense(num_classes, activation='softmax'))\n",
    "\n",
    "model.summary()"
   ]
  },
  {
   "cell_type": "code",
   "execution_count": 36,
   "metadata": {
    "scrolled": true
   },
   "outputs": [
    {
     "name": "stdout",
     "output_type": "stream",
     "text": [
      "Epoch 1/50\n",
      "1499/1499 [==============================] - 5s 3ms/step - loss: 216.0245 - accuracy: 0.9208 - val_loss: 12.4943 - val_accuracy: 0.9662\n",
      "Epoch 2/50\n",
      "1499/1499 [==============================] - 4s 3ms/step - loss: 62.5479 - accuracy: 0.9465 - val_loss: 27.6189 - val_accuracy: 0.9761\n",
      "Epoch 3/50\n",
      "1499/1499 [==============================] - 5s 3ms/step - loss: 66.6178 - accuracy: 0.9469 - val_loss: 11.9982 - val_accuracy: 0.9793\n",
      "Epoch 4/50\n",
      "1499/1499 [==============================] - 4s 3ms/step - loss: 48.5085 - accuracy: 0.9547 - val_loss: 12.6363 - val_accuracy: 0.9806\n",
      "Epoch 5/50\n",
      "1499/1499 [==============================] - 5s 3ms/step - loss: 59.9696 - accuracy: 0.9512 - val_loss: 312.1158 - val_accuracy: 0.5976\n",
      "Epoch 6/50\n",
      "1499/1499 [==============================] - 4s 3ms/step - loss: 44.2760 - accuracy: 0.9542 - val_loss: 11.3143 - val_accuracy: 0.9739 ETA: 0s - loss: 44.6049 - accuracy: 0.95\n",
      "Epoch 7/50\n",
      "1499/1499 [==============================] - 4s 3ms/step - loss: 42.1051 - accuracy: 0.9538 - val_loss: 91.5462 - val_accuracy: 0.8082\n",
      "Epoch 8/50\n",
      "1499/1499 [==============================] - 5s 3ms/step - loss: 38.3161 - accuracy: 0.9553 - val_loss: 8.6212 - val_accuracy: 0.9807\n",
      "Epoch 9/50\n",
      "1499/1499 [==============================] - 5s 3ms/step - loss: 38.5089 - accuracy: 0.9526 - val_loss: 8.8140 - val_accuracy: 0.9777\n",
      "Epoch 10/50\n",
      "1499/1499 [==============================] - 5s 3ms/step - loss: 23.2391 - accuracy: 0.9597 - val_loss: 8.5131 - val_accuracy: 0.9763\n",
      "Epoch 11/50\n",
      "1499/1499 [==============================] - 5s 4ms/step - loss: 29.3525 - accuracy: 0.9552 - val_loss: 7.7798 - val_accuracy: 0.9691\n",
      "Epoch 12/50\n",
      "1499/1499 [==============================] - 5s 4ms/step - loss: 24.4144 - accuracy: 0.9568 - val_loss: 27.7142 - val_accuracy: 0.8492\n",
      "Epoch 13/50\n",
      "1499/1499 [==============================] - 5s 3ms/step - loss: 26.2475 - accuracy: 0.9537 - val_loss: 16.5413 - val_accuracy: 0.9714\n",
      "Epoch 14/50\n",
      "1499/1499 [==============================] - 5s 3ms/step - loss: 19.8748 - accuracy: 0.9597 - val_loss: 6.4594 - val_accuracy: 0.9802\n",
      "Epoch 15/50\n",
      "1499/1499 [==============================] - 5s 3ms/step - loss: 23.5648 - accuracy: 0.9553 - val_loss: 5.8017 - val_accuracy: 0.9793\n",
      "Epoch 16/50\n",
      "1499/1499 [==============================] - 4s 3ms/step - loss: 21.1976 - accuracy: 0.9571 - val_loss: 6.4665 - val_accuracy: 0.9602\n",
      "Epoch 17/50\n",
      "1499/1499 [==============================] - 5s 3ms/step - loss: 18.2515 - accuracy: 0.9582 - val_loss: 141.0905 - val_accuracy: 0.9242\n",
      "Epoch 18/50\n",
      "1499/1499 [==============================] - 4s 3ms/step - loss: 15.6037 - accuracy: 0.9590 - val_loss: 7.2524 - val_accuracy: 0.9386\n",
      "Epoch 19/50\n",
      "1499/1499 [==============================] - 4s 3ms/step - loss: 12.6601 - accuracy: 0.9600 - val_loss: 6.6437 - val_accuracy: 0.9779\n",
      "Epoch 20/50\n",
      "1499/1499 [==============================] - 5s 3ms/step - loss: 13.1942 - accuracy: 0.9593 - val_loss: 3.5936 - val_accuracy: 0.9649\n",
      "Epoch 21/50\n",
      "1499/1499 [==============================] - 5s 3ms/step - loss: 16.8784 - accuracy: 0.9584 - val_loss: 4.0930 - val_accuracy: 0.9585\n",
      "Epoch 22/50\n",
      "1499/1499 [==============================] - 4s 3ms/step - loss: 14.3142 - accuracy: 0.9591 - val_loss: 4.3241 - val_accuracy: 0.9807\n",
      "Epoch 23/50\n",
      "1499/1499 [==============================] - 4s 3ms/step - loss: 13.6238 - accuracy: 0.9608 - val_loss: 3.0321 - val_accuracy: 0.9758\n",
      "Epoch 24/50\n",
      "1499/1499 [==============================] - 4s 3ms/step - loss: 10.4163 - accuracy: 0.9615 - val_loss: 6.9465 - val_accuracy: 0.9810\n",
      "Epoch 25/50\n",
      "1499/1499 [==============================] - 4s 3ms/step - loss: 11.4599 - accuracy: 0.9616 - val_loss: 2.5978 - val_accuracy: 0.9802\n",
      "Epoch 26/50\n",
      "1499/1499 [==============================] - 4s 3ms/step - loss: 10.8440 - accuracy: 0.9626 - val_loss: 11.8235 - val_accuracy: 0.9802\n",
      "Epoch 27/50\n",
      "1499/1499 [==============================] - 4s 3ms/step - loss: 11.2207 - accuracy: 0.9622 - val_loss: 7.9566 - val_accuracy: 0.9809\n",
      "Epoch 28/50\n",
      "1499/1499 [==============================] - 4s 2ms/step - loss: 11.3240 - accuracy: 0.9632 - val_loss: 15.3346 - val_accuracy: 0.9801\n",
      "Epoch 29/50\n",
      "1499/1499 [==============================] - 4s 2ms/step - loss: 9.2554 - accuracy: 0.9629 - val_loss: 36.1241 - val_accuracy: 0.9681\n",
      "Epoch 30/50\n",
      "1499/1499 [==============================] - 4s 2ms/step - loss: 10.7178 - accuracy: 0.9627 - val_loss: 3.0761 - val_accuracy: 0.9767\n",
      "Epoch 31/50\n",
      "1499/1499 [==============================] - 4s 2ms/step - loss: 7.9014 - accuracy: 0.9641 - val_loss: 1.7233 - val_accuracy: 0.9812\n",
      "Epoch 32/50\n",
      "1499/1499 [==============================] - 4s 3ms/step - loss: 6.6292 - accuracy: 0.9628 - val_loss: 2.5967 - val_accuracy: 0.9795\n",
      "Epoch 33/50\n",
      "1499/1499 [==============================] - 6s 4ms/step - loss: 4.9640 - accuracy: 0.9626 - val_loss: 3.2567 - val_accuracy: 0.9029\n",
      "Epoch 34/50\n",
      "1499/1499 [==============================] - 4s 2ms/step - loss: 5.6134 - accuracy: 0.9643 - val_loss: 1.6915 - val_accuracy: 0.9838\n",
      "Epoch 35/50\n",
      "1499/1499 [==============================] - 4s 2ms/step - loss: 4.3620 - accuracy: 0.9632 - val_loss: 1.9463 - val_accuracy: 0.9852\n",
      "Epoch 36/50\n",
      "1499/1499 [==============================] - 4s 2ms/step - loss: 3.0127 - accuracy: 0.9652 - val_loss: 0.9081 - val_accuracy: 0.9820\n",
      "Epoch 37/50\n",
      "1499/1499 [==============================] - 4s 3ms/step - loss: 3.1775 - accuracy: 0.9637 - val_loss: 0.3838 - val_accuracy: 0.9833\n",
      "Epoch 38/50\n",
      "1499/1499 [==============================] - 4s 3ms/step - loss: 3.2598 - accuracy: 0.9633 - val_loss: 0.4011 - val_accuracy: 0.9830\n",
      "Epoch 39/50\n",
      "1499/1499 [==============================] - 4s 2ms/step - loss: 2.6251 - accuracy: 0.9640 - val_loss: 3.0074 - val_accuracy: 0.9804\n",
      "Epoch 40/50\n",
      "1499/1499 [==============================] - 4s 3ms/step - loss: 1.6253 - accuracy: 0.9650 - val_loss: 0.2089 - val_accuracy: 0.9821\n",
      "Epoch 41/50\n",
      "1499/1499 [==============================] - 4s 2ms/step - loss: 1.6704 - accuracy: 0.9646 - val_loss: 1.9258 - val_accuracy: 0.9808\n",
      "Epoch 42/50\n",
      "1499/1499 [==============================] - 4s 3ms/step - loss: 1.0702 - accuracy: 0.9675 - val_loss: 1.8036 - val_accuracy: 0.9742\n",
      "Epoch 43/50\n",
      "1499/1499 [==============================] - 4s 2ms/step - loss: 0.7117 - accuracy: 0.9622 - val_loss: 0.2535 - val_accuracy: 0.9770\n",
      "Epoch 44/50\n",
      "1499/1499 [==============================] - 4s 2ms/step - loss: 0.3737 - accuracy: 0.9719 - val_loss: 0.0759 - val_accuracy: 0.9864\n",
      "Epoch 45/50\n",
      "1499/1499 [==============================] - 4s 2ms/step - loss: 0.1574 - accuracy: 0.9778 - val_loss: 0.0837 - val_accuracy: 0.9838\n",
      "Epoch 46/50\n",
      "1499/1499 [==============================] - 4s 2ms/step - loss: 0.1217 - accuracy: 0.9771 - val_loss: 0.0649 - val_accuracy: 0.9875\n",
      "Epoch 47/50\n",
      "1499/1499 [==============================] - 4s 2ms/step - loss: 0.0885 - accuracy: 0.9815 - val_loss: 0.0609 - val_accuracy: 0.9881\n",
      "Epoch 48/50\n",
      "1499/1499 [==============================] - 4s 3ms/step - loss: 0.0877 - accuracy: 0.9811 - val_loss: 0.0612 - val_accuracy: 0.9878\n",
      "Epoch 49/50\n",
      "1499/1499 [==============================] - 4s 2ms/step - loss: 0.0878 - accuracy: 0.9809 - val_loss: 0.0621 - val_accuracy: 0.9873\n",
      "Epoch 50/50\n",
      "1499/1499 [==============================] - 4s 2ms/step - loss: 0.0891 - accuracy: 0.9804 - val_loss: 0.0702 - val_accuracy: 0.9827\n"
     ]
    }
   ],
   "source": [
    "# Configure model and start training\n",
    "model.compile(loss='categorical_crossentropy', optimizer='adam', metrics=['accuracy'])\n",
    "history = model.fit(X_train, Y_train, epochs=50, batch_size=1000, verbose=1, validation_data=(X_valid, Y_valid))"
   ]
  },
  {
   "cell_type": "code",
   "execution_count": 37,
   "metadata": {},
   "outputs": [],
   "source": [
    "Y_train_predict = (model.predict(X_train) > 0.5).astype('float32')\n",
    "Y_test_predict = (model.predict(X_test) > 0.5).astype('float32')\n",
    "Y_valid_predict = (model.predict(X_valid) > 0.5).astype('float32')"
   ]
  },
  {
   "cell_type": "code",
   "execution_count": 38,
   "metadata": {},
   "outputs": [
    {
     "name": "stdout",
     "output_type": "stream",
     "text": [
      "Training set miss: 2.3740337555839504%\n",
      "Validation set miss: 1.7258773510124665%\n",
      "Test set miss: 1.385986404362134%\n"
     ]
    }
   ],
   "source": [
    "train_miss = np.abs((Y_train_predict - Y_train)).sum()/2/len(Y_train)*100\n",
    "validation_miss = np.abs((Y_valid_predict - Y_valid)).sum()/2/len(Y_valid)*100\n",
    "test_miss = np.abs((Y_test_predict - Y_test)).sum()/2/len(Y_test)*100\n",
    "\n",
    "print(f'Training set miss: {train_miss}%')\n",
    "print(f'Validation set miss: {validation_miss}%')\n",
    "print(f'Test set miss: {test_miss}%')"
   ]
  },
  {
   "cell_type": "code",
   "execution_count": 31,
   "metadata": {},
   "outputs": [],
   "source": []
  },
  {
   "cell_type": "code",
   "execution_count": 40,
   "metadata": {},
   "outputs": [
    {
     "data": {
      "text/plain": [
       "(0.0, 2.0)"
      ]
     },
     "execution_count": 40,
     "metadata": {},
     "output_type": "execute_result"
    },
    {
     "data": {
      "image/png": "[encoded data removed]",
      "text/plain": [
       "<Figure size 432x288 with 1 Axes>"
      ]
     },
     "metadata": {
      "needs_background": "light"
     },
     "output_type": "display_data"
    }
   ],
   "source": [
    "fig,ax= plt.subplots()\n",
    "ax.plot(history.history['val_loss'])\n",
    "ax.set_ylim(0,2)"
   ]
  },
  {
   "cell_type": "code",
   "execution_count": null,
   "metadata": {},
   "outputs": [],
   "source": []
  }
 ],
 "metadata": {
  "kernelspec": {
   "display_name": "Python 3",
   "language": "python",
   "name": "python3"
  },
  "language_info": {
   "codemirror_mode": {
    "name": "ipython",
    "version": 3
   },
   "file_extension": ".py",
   "mimetype": "text/x-python",
   "name": "python",
   "nbconvert_exporter": "python",
   "pygments_lexer": "ipython3",
   "version": "3.8.5"
  }
 },
 "nbformat": 4,
 "nbformat_minor": 4
}
