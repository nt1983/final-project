{
 "cells": [
  {
   "cell_type": "code",
   "execution_count": 1,
   "metadata": {},
   "outputs": [],
   "source": [
    "# Dependencies\n",
    "import pandas as pd\n",
    "import numpy as np\n",
    "\n",
    "import tensorflow\n",
    "\n",
    "from tensorflow.keras.models import Sequential\n",
    "from tensorflow.keras.layers import Dense\n",
    "from tensorflow.keras.layers import Dropout\n",
    "from tensorflow.keras.utils import to_categorical\n",
    "\n",
    "from matplotlib import pyplot as plt"
   ]
  },
  {
   "cell_type": "code",
   "execution_count": 2,
   "metadata": {},
   "outputs": [
    {
     "name": "stderr",
     "output_type": "stream",
     "text": [
      "C:\\Users\\Tolga\\miniconda3\\lib\\site-packages\\IPython\\core\\interactiveshell.py:3146: DtypeWarning: Columns (1,48,58,117,127,128,129,132,133,134,137) have mixed types.Specify dtype option on import or set low_memory=False.\n",
      "  has_raised = await self.run_ast_nodes(code_ast.body, cell_name,\n"
     ]
    }
   ],
   "source": [
    "# Data cleaning\n",
    "filepath = 'Data\\Loan_status_2007-2020Q3.gzip'\n",
    "\n",
    "# Read the file, takes a long time, so be patient\n",
    "df = pd.read_csv(filepath)"
   ]
  },
  {
   "cell_type": "code",
   "execution_count": 3,
   "metadata": {},
   "outputs": [
    {
     "data": {
      "text/plain": [
       "Fully Paid     0.805116\n",
       "Charged Off    0.194884\n",
       "Name: loan_status, dtype: float64"
      ]
     },
     "execution_count": 3,
     "metadata": {},
     "output_type": "execute_result"
    }
   ],
   "source": [
    "# Keep only the columns with 'Fully Paid' and 'Charged Off'.\n",
    "\n",
    "lstatus = ['Fully Paid','Charged Off']\n",
    "loan_status = df.loc[df[\"loan_status\"].isin(lstatus)]\n",
    "loan_status.head()\n",
    "\n",
    "# Count each loan status to see the balance of the data\n",
    "loan_status[\"loan_status\"].value_counts(normalize=True)"
   ]
  },
  {
   "cell_type": "code",
   "execution_count": 4,
   "metadata": {},
   "outputs": [
    {
     "data": {
      "text/plain": [
       "next_pymnt_d               1.000000\n",
       "hardship_loan_status       0.993182\n",
       "deferral_term              0.993176\n",
       "hardship_status            0.993176\n",
       "hardship_dpd               0.993176\n",
       "hardship_length            0.993176\n",
       "payment_plan_start_date    0.993176\n",
       "hardship_end_date          0.993176\n",
       "hardship_start_date        0.993176\n",
       "hardship_type              0.993176\n",
       "dtype: float64"
      ]
     },
     "execution_count": 4,
     "metadata": {},
     "output_type": "execute_result"
    }
   ],
   "source": [
    "missing_fractions = loan_status.isnull().mean().sort_values(ascending=False)\n",
    "missing_fractions.head(10)"
   ]
  },
  {
   "cell_type": "code",
   "execution_count": 5,
   "metadata": {},
   "outputs": [
    {
     "name": "stdout",
     "output_type": "stream",
     "text": [
      "['Unnamed: 0', 'id', 'loan_amnt', 'funded_amnt', 'funded_amnt_inv', 'term', 'int_rate', 'installment', 'grade', 'sub_grade', 'emp_title', 'emp_length', 'home_ownership', 'annual_inc', 'verification_status', 'issue_d', 'loan_status', 'pymnt_plan', 'url', 'purpose', 'title', 'zip_code', 'addr_state', 'dti', 'delinq_2yrs', 'earliest_cr_line', 'fico_range_low', 'fico_range_high', 'inq_last_6mths', 'mths_since_last_delinq', 'mths_since_last_record', 'open_acc', 'pub_rec', 'revol_bal', 'revol_util', 'total_acc', 'initial_list_status', 'out_prncp', 'out_prncp_inv', 'total_pymnt', 'total_pymnt_inv', 'total_rec_prncp', 'total_rec_int', 'total_rec_late_fee', 'recoveries', 'collection_recovery_fee', 'last_pymnt_d', 'last_pymnt_amnt', 'next_pymnt_d', 'last_credit_pull_d', 'last_fico_range_high', 'last_fico_range_low', 'collections_12_mths_ex_med', 'mths_since_last_major_derog', 'policy_code', 'application_type', 'annual_inc_joint', 'dti_joint', 'verification_status_joint', 'acc_now_delinq', 'tot_coll_amt', 'tot_cur_bal', 'open_acc_6m', 'open_act_il', 'open_il_12m', 'open_il_24m', 'mths_since_rcnt_il', 'total_bal_il', 'il_util', 'open_rv_12m', 'open_rv_24m', 'max_bal_bc', 'all_util', 'total_rev_hi_lim', 'inq_fi', 'total_cu_tl', 'inq_last_12m', 'acc_open_past_24mths', 'avg_cur_bal', 'bc_open_to_buy', 'bc_util', 'chargeoff_within_12_mths', 'delinq_amnt', 'mo_sin_old_il_acct', 'mo_sin_old_rev_tl_op', 'mo_sin_rcnt_rev_tl_op', 'mo_sin_rcnt_tl', 'mort_acc', 'mths_since_recent_bc', 'mths_since_recent_bc_dlq', 'mths_since_recent_inq', 'mths_since_recent_revol_delinq', 'num_accts_ever_120_pd', 'num_actv_bc_tl', 'num_actv_rev_tl', 'num_bc_sats', 'num_bc_tl', 'num_il_tl', 'num_op_rev_tl', 'num_rev_accts', 'num_rev_tl_bal_gt_0', 'num_sats', 'num_tl_120dpd_2m', 'num_tl_30dpd', 'num_tl_90g_dpd_24m', 'num_tl_op_past_12m', 'pct_tl_nvr_dlq', 'percent_bc_gt_75', 'pub_rec_bankruptcies', 'tax_liens', 'tot_hi_cred_lim', 'total_bal_ex_mort', 'total_bc_limit', 'total_il_high_credit_limit', 'revol_bal_joint', 'sec_app_fico_range_low', 'sec_app_fico_range_high', 'sec_app_earliest_cr_line', 'sec_app_inq_last_6mths', 'sec_app_mort_acc', 'sec_app_open_acc', 'sec_app_revol_util', 'sec_app_open_act_il', 'sec_app_num_rev_accts', 'sec_app_chargeoff_within_12_mths', 'sec_app_collections_12_mths_ex_med', 'hardship_flag', 'hardship_type', 'hardship_reason', 'hardship_status', 'deferral_term', 'hardship_amount', 'hardship_start_date', 'hardship_end_date', 'payment_plan_start_date', 'hardship_length', 'hardship_dpd', 'hardship_loan_status', 'orig_projected_additional_accrued_interest', 'hardship_payoff_balance_amount', 'hardship_last_payment_amount', 'debt_settlement_flag']\n"
     ]
    }
   ],
   "source": [
    "print(loan_status.columns.tolist())"
   ]
  },
  {
   "cell_type": "code",
   "execution_count": 6,
   "metadata": {},
   "outputs": [
    {
     "name": "stdout",
     "output_type": "stream",
     "text": [
      "(1860331, 142)\n",
      "<class 'pandas.core.frame.DataFrame'>\n",
      "Int64Index: 1860331 entries, 0 to 2925492\n",
      "Columns: 142 entries, Unnamed: 0 to debt_settlement_flag\n",
      "dtypes: float64(106), int64(1), object(35)\n",
      "memory usage: 2.0+ GB\n",
      "None\n"
     ]
    }
   ],
   "source": [
    "print( loan_status.shape)\n",
    "print(loan_status.info())"
   ]
  },
  {
   "cell_type": "code",
   "execution_count": 7,
   "metadata": {},
   "outputs": [
    {
     "data": {
      "text/plain": [
       "Text(0, 0.5, 'Count')"
      ]
     },
     "execution_count": 7,
     "metadata": {},
     "output_type": "execute_result"
    },
    {
     "data": {
      "image/png": "[encoded data removed]",
      "text/plain": [
       "<Figure size 900x450 with 1 Axes>"
      ]
     },
     "metadata": {
      "needs_background": "light"
     },
     "output_type": "display_data"
    }
   ],
   "source": [
    "plt.figure( figsize=(10,5), dpi=90)\n",
    "missing_fractions.plot.hist(bins=142)\n",
    "plt.title('Feature Data imcompleteness')\n",
    "plt.xlabel('fraction of data missing')\n",
    "plt.ylabel('Count')"
   ]
  },
  {
   "cell_type": "code",
   "execution_count": 8,
   "metadata": {},
   "outputs": [
    {
     "name": "stdout",
     "output_type": "stream",
     "text": [
      "['all_util', 'annual_inc_joint', 'deferral_term', 'dti_joint', 'hardship_amount', 'hardship_dpd', 'hardship_end_date', 'hardship_last_payment_amount', 'hardship_length', 'hardship_loan_status', 'hardship_payoff_balance_amount', 'hardship_reason', 'hardship_start_date', 'hardship_status', 'hardship_type', 'il_util', 'inq_fi', 'inq_last_12m', 'max_bal_bc', 'mths_since_last_delinq', 'mths_since_last_major_derog', 'mths_since_last_record', 'mths_since_rcnt_il', 'mths_since_recent_bc_dlq', 'mths_since_recent_revol_delinq', 'next_pymnt_d', 'open_acc_6m', 'open_act_il', 'open_il_12m', 'open_il_24m', 'open_rv_12m', 'open_rv_24m', 'orig_projected_additional_accrued_interest', 'payment_plan_start_date', 'revol_bal_joint', 'sec_app_chargeoff_within_12_mths', 'sec_app_collections_12_mths_ex_med', 'sec_app_earliest_cr_line', 'sec_app_fico_range_high', 'sec_app_fico_range_low', 'sec_app_inq_last_6mths', 'sec_app_mort_acc', 'sec_app_num_rev_accts', 'sec_app_open_acc', 'sec_app_open_act_il', 'sec_app_revol_util', 'total_bal_il', 'total_cu_tl', 'verification_status_joint']\n",
      "\n",
      " \n",
      " Potential Drop features:  49\n"
     ]
    }
   ],
   "source": [
    "# Drop columns with missing data\n",
    "drop_list = sorted(list(missing_fractions[missing_fractions >0.3].index ))\n",
    "print(drop_list)\n",
    "print(\"\\n \\n Potential Drop features: \", len(drop_list))"
   ]
  },
  {
   "cell_type": "code",
   "execution_count": 9,
   "metadata": {},
   "outputs": [
    {
     "name": "stderr",
     "output_type": "stream",
     "text": [
      "C:\\Users\\Tolga\\miniconda3\\lib\\site-packages\\pandas\\core\\frame.py:4167: SettingWithCopyWarning: \n",
      "A value is trying to be set on a copy of a slice from a DataFrame\n",
      "\n",
      "See the caveats in the documentation: https://pandas.pydata.org/pandas-docs/stable/user_guide/indexing.html#returning-a-view-versus-a-copy\n",
      "  return super().drop(\n"
     ]
    },
    {
     "data": {
      "text/plain": [
       "(1860331, 93)"
      ]
     },
     "execution_count": 9,
     "metadata": {},
     "output_type": "execute_result"
    }
   ],
   "source": [
    "# drop features\n",
    "loan_status.drop(labels= drop_list, axis=1, inplace=True)\n",
    "loan_status.shape"
   ]
  },
  {
   "cell_type": "code",
   "execution_count": 10,
   "metadata": {},
   "outputs": [],
   "source": [
    "cols_keep = ['loan_amnt','term','int_rate','installment','grade','sub_grade','emp_length','home_ownership','annual_inc','issue_d','loan_status','pymnt_plan','addr_state','dti','earliest_cr_line','fico_range_low','fico_range_high','open_acc','pub_rec','revol_bal','revol_util','total_acc','total_pymnt','total_rec_late_fee','last_pymnt_d','application_type','acc_now_delinq','tot_coll_amt','tot_cur_bal','chargeoff_within_12_mths','mort_acc','num_il_tl','pub_rec_bankruptcies','tax_liens','tot_hi_cred_lim','total_bal_ex_mort','total_il_high_credit_limit','hardship_flag','debt_settlement_flag']\n",
    "df_clean = loan_status[cols_keep]\n",
    "dropped_df = df_clean.dropna()"
   ]
  },
  {
   "cell_type": "code",
   "execution_count": 11,
   "metadata": {},
   "outputs": [],
   "source": [
    "def one_hot_encoding_append(source_df, target_df, column):\n",
    "    unique_values = source_df[column].unique()\n",
    "    for value in unique_values:\n",
    "        target_df[f'{column}_{value.lower()}'] = (source_df[column] == value).astype(int)"
   ]
  },
  {
   "cell_type": "code",
   "execution_count": 24,
   "metadata": {},
   "outputs": [],
   "source": [
    "loans_df = dropped_df.copy()\n",
    "\n",
    "one_hot_encode_columns = ['term',\n",
    " 'home_ownership',\n",
    " 'hardship_flag',\n",
    " 'debt_settlement_flag',\n",
    " 'pymnt_plan',\n",
    " 'addr_state',\n",
    " 'application_type']\n",
    "\n",
    "for column in one_hot_encode_columns:\n",
    "    one_hot_encoding_append(dropped_df, loans_df, column)"
   ]
  },
  {
   "cell_type": "code",
   "execution_count": 26,
   "metadata": {},
   "outputs": [
    {
     "name": "stdout",
     "output_type": "stream",
     "text": [
      "Reprinting 4 years --> 4\n",
      "Reprinting 2 years --> 2\n",
      "Reprinting 10+ years --> 10\n",
      "Reprinting 3 years --> 3\n",
      "Reprinting 5 years --> 5\n",
      "Reprinting 6 years --> 6\n",
      "Reprinting 1 year --> 1\n",
      "Reprinting 7 years --> 7\n",
      "Reprinting < 1 year --> 0\n",
      "Reprinting 9 years --> 9\n",
      "Reprinting 8 years --> 8\n"
     ]
    }
   ],
   "source": [
    "# Convert int_rate to float\n",
    "loans_df['int_rate'] = loans_df['int_rate'].str.rstrip('%').astype(float)/100\n",
    "loans_df['revol_util'] = loans_df['revol_util'].str.rstrip('%').astype(float)/100\n",
    "# Convert objects to datetime\n",
    "loans_df['earliest_cr_line'] = pd.to_datetime(loans_df['earliest_cr_line'],format = '%b-%Y')\n",
    "loans_df['issue_d'] = pd.to_datetime(loans_df['issue_d'],format = '%b-%Y')\n",
    "loans_df['last_pymnt_d'] = pd.to_datetime(loans_df['last_pymnt_d'],format = '%b-%Y')\n",
    "\n",
    "emp_length_value_to_years = {'4 years': 4, '2 years': 2, '10+ years': 10, '3 years': 3, '5 years': 5, '6 years': 6, '1 year': 1, '7 years': 7, '< 1 year': 0, '9 years': 9, '8 years': 8}\n",
    "for (key, value) in emp_length_value_to_years.items():\n",
    "    print(f'Reprinting {key} --> {value}')\n",
    "    loans_df.loc[df['emp_length'] == key, 'emp_length'] = value\n",
    "    \n",
    "loans_df.rename(columns={'emp_length': 'emp_length_year'}, inplace=True)\n",
    "loans_df['emp_length_year'] = loans_df['emp_length_year'].astype(int)"
   ]
  },
  {
   "cell_type": "code",
   "execution_count": 27,
   "metadata": {},
   "outputs": [
    {
     "name": "stdout",
     "output_type": "stream",
     "text": [
      "['n' nan]\n"
     ]
    }
   ],
   "source": [
    "# Drop the column pymnt_plan, since the only value is 'n'\n",
    "print(df['pymnt_plan'].unique())\n",
    "\n",
    "one_hot_encode_columns.append('pymnt_plan')"
   ]
  },
  {
   "cell_type": "code",
   "execution_count": 28,
   "metadata": {},
   "outputs": [],
   "source": [
    "# Fully paid = 1, Charged off = 0\n",
    "loans_df['loan_status'] = loans_df['loan_status'].astype('category').cat.codes\n",
    "# A1=0, A2=1, A3=2, ... : Lower the better\n",
    "loans_df['sub_grade'] = loans_df['sub_grade'].astype('category').cat.codes\n",
    "one_hot_encode_columns.append('grade')"
   ]
  },
  {
   "cell_type": "code",
   "execution_count": 29,
   "metadata": {},
   "outputs": [],
   "source": [
    "loans_df.drop(columns=one_hot_encode_columns, inplace=True)"
   ]
  },
  {
   "cell_type": "code",
   "execution_count": 30,
   "metadata": {},
   "outputs": [
    {
     "data": {
      "text/html": [
       "<div>\n",
       "<style scoped>\n",
       "    .dataframe tbody tr th:only-of-type {\n",
       "        vertical-align: middle;\n",
       "    }\n",
       "\n",
       "    .dataframe tbody tr th {\n",
       "        vertical-align: top;\n",
       "    }\n",
       "\n",
       "    .dataframe thead th {\n",
       "        text-align: right;\n",
       "    }\n",
       "</style>\n",
       "<table border=\"1\" class=\"dataframe\">\n",
       "  <thead>\n",
       "    <tr style=\"text-align: right;\">\n",
       "      <th></th>\n",
       "      <th>loan_amnt</th>\n",
       "      <th>int_rate</th>\n",
       "      <th>installment</th>\n",
       "      <th>sub_grade</th>\n",
       "      <th>emp_length_year</th>\n",
       "      <th>annual_inc</th>\n",
       "      <th>issue_d</th>\n",
       "      <th>loan_status</th>\n",
       "      <th>dti</th>\n",
       "      <th>earliest_cr_line</th>\n",
       "      <th>...</th>\n",
       "      <th>addr_state_sd</th>\n",
       "      <th>addr_state_dc</th>\n",
       "      <th>addr_state_ne</th>\n",
       "      <th>addr_state_ia</th>\n",
       "      <th>addr_state_ms</th>\n",
       "      <th>addr_state_id</th>\n",
       "      <th>addr_state_me</th>\n",
       "      <th>addr_state_nd</th>\n",
       "      <th>application_type_individual</th>\n",
       "      <th>application_type_joint app</th>\n",
       "    </tr>\n",
       "  </thead>\n",
       "  <tbody>\n",
       "    <tr>\n",
       "      <th>42536</th>\n",
       "      <td>12000.0</td>\n",
       "      <td>0.1099</td>\n",
       "      <td>392.81</td>\n",
       "      <td>6</td>\n",
       "      <td>4</td>\n",
       "      <td>60000.0</td>\n",
       "      <td>2013-12-01</td>\n",
       "      <td>1</td>\n",
       "      <td>4.62</td>\n",
       "      <td>2009-12-01</td>\n",
       "      <td>...</td>\n",
       "      <td>0</td>\n",
       "      <td>0</td>\n",
       "      <td>0</td>\n",
       "      <td>0</td>\n",
       "      <td>0</td>\n",
       "      <td>0</td>\n",
       "      <td>0</td>\n",
       "      <td>0</td>\n",
       "      <td>1</td>\n",
       "      <td>0</td>\n",
       "    </tr>\n",
       "    <tr>\n",
       "      <th>42537</th>\n",
       "      <td>4800.0</td>\n",
       "      <td>0.1099</td>\n",
       "      <td>157.13</td>\n",
       "      <td>6</td>\n",
       "      <td>2</td>\n",
       "      <td>39600.0</td>\n",
       "      <td>2013-12-01</td>\n",
       "      <td>1</td>\n",
       "      <td>2.49</td>\n",
       "      <td>1995-08-01</td>\n",
       "      <td>...</td>\n",
       "      <td>0</td>\n",
       "      <td>0</td>\n",
       "      <td>0</td>\n",
       "      <td>0</td>\n",
       "      <td>0</td>\n",
       "      <td>0</td>\n",
       "      <td>0</td>\n",
       "      <td>0</td>\n",
       "      <td>1</td>\n",
       "      <td>0</td>\n",
       "    </tr>\n",
       "    <tr>\n",
       "      <th>42538</th>\n",
       "      <td>27050.0</td>\n",
       "      <td>0.1099</td>\n",
       "      <td>885.46</td>\n",
       "      <td>6</td>\n",
       "      <td>10</td>\n",
       "      <td>55000.0</td>\n",
       "      <td>2013-12-01</td>\n",
       "      <td>1</td>\n",
       "      <td>22.87</td>\n",
       "      <td>1986-10-01</td>\n",
       "      <td>...</td>\n",
       "      <td>0</td>\n",
       "      <td>0</td>\n",
       "      <td>0</td>\n",
       "      <td>0</td>\n",
       "      <td>0</td>\n",
       "      <td>0</td>\n",
       "      <td>0</td>\n",
       "      <td>0</td>\n",
       "      <td>1</td>\n",
       "      <td>0</td>\n",
       "    </tr>\n",
       "    <tr>\n",
       "      <th>42539</th>\n",
       "      <td>12000.0</td>\n",
       "      <td>0.0762</td>\n",
       "      <td>373.94</td>\n",
       "      <td>2</td>\n",
       "      <td>3</td>\n",
       "      <td>96500.0</td>\n",
       "      <td>2013-12-01</td>\n",
       "      <td>1</td>\n",
       "      <td>12.61</td>\n",
       "      <td>2003-09-01</td>\n",
       "      <td>...</td>\n",
       "      <td>0</td>\n",
       "      <td>0</td>\n",
       "      <td>0</td>\n",
       "      <td>0</td>\n",
       "      <td>0</td>\n",
       "      <td>0</td>\n",
       "      <td>0</td>\n",
       "      <td>0</td>\n",
       "      <td>1</td>\n",
       "      <td>0</td>\n",
       "    </tr>\n",
       "    <tr>\n",
       "      <th>42540</th>\n",
       "      <td>14000.0</td>\n",
       "      <td>0.1285</td>\n",
       "      <td>470.71</td>\n",
       "      <td>8</td>\n",
       "      <td>4</td>\n",
       "      <td>88000.0</td>\n",
       "      <td>2013-12-01</td>\n",
       "      <td>1</td>\n",
       "      <td>10.02</td>\n",
       "      <td>1988-06-01</td>\n",
       "      <td>...</td>\n",
       "      <td>0</td>\n",
       "      <td>0</td>\n",
       "      <td>0</td>\n",
       "      <td>0</td>\n",
       "      <td>0</td>\n",
       "      <td>0</td>\n",
       "      <td>0</td>\n",
       "      <td>0</td>\n",
       "      <td>1</td>\n",
       "      <td>0</td>\n",
       "    </tr>\n",
       "  </tbody>\n",
       "</table>\n",
       "<p>5 rows × 97 columns</p>\n",
       "</div>"
      ],
      "text/plain": [
       "       loan_amnt  int_rate  installment  sub_grade  emp_length_year  \\\n",
       "42536    12000.0    0.1099       392.81          6                4   \n",
       "42537     4800.0    0.1099       157.13          6                2   \n",
       "42538    27050.0    0.1099       885.46          6               10   \n",
       "42539    12000.0    0.0762       373.94          2                3   \n",
       "42540    14000.0    0.1285       470.71          8                4   \n",
       "\n",
       "       annual_inc    issue_d  loan_status    dti earliest_cr_line  ...  \\\n",
       "42536     60000.0 2013-12-01            1   4.62       2009-12-01  ...   \n",
       "42537     39600.0 2013-12-01            1   2.49       1995-08-01  ...   \n",
       "42538     55000.0 2013-12-01            1  22.87       1986-10-01  ...   \n",
       "42539     96500.0 2013-12-01            1  12.61       2003-09-01  ...   \n",
       "42540     88000.0 2013-12-01            1  10.02       1988-06-01  ...   \n",
       "\n",
       "       addr_state_sd  addr_state_dc  addr_state_ne  addr_state_ia  \\\n",
       "42536              0              0              0              0   \n",
       "42537              0              0              0              0   \n",
       "42538              0              0              0              0   \n",
       "42539              0              0              0              0   \n",
       "42540              0              0              0              0   \n",
       "\n",
       "       addr_state_ms  addr_state_id  addr_state_me  addr_state_nd  \\\n",
       "42536              0              0              0              0   \n",
       "42537              0              0              0              0   \n",
       "42538              0              0              0              0   \n",
       "42539              0              0              0              0   \n",
       "42540              0              0              0              0   \n",
       "\n",
       "       application_type_individual application_type_joint app  \n",
       "42536                            1                          0  \n",
       "42537                            1                          0  \n",
       "42538                            1                          0  \n",
       "42539                            1                          0  \n",
       "42540                            1                          0  \n",
       "\n",
       "[5 rows x 97 columns]"
      ]
     },
     "execution_count": 30,
     "metadata": {},
     "output_type": "execute_result"
    }
   ],
   "source": [
    "loans_df.head()"
   ]
  },
  {
   "cell_type": "markdown",
   "metadata": {},
   "source": [
    "## Model"
   ]
  },
  {
   "cell_type": "code",
   "execution_count": 31,
   "metadata": {},
   "outputs": [
    {
     "name": "stdout",
     "output_type": "stream",
     "text": [
      "train_idx = 1498715\n",
      "valid_idx = 1581977\n",
      "Training set:\n"
     ]
    },
    {
     "data": {
      "text/plain": [
       "1    0.809584\n",
       "0    0.190416\n",
       "Name: loan_status, dtype: float64"
      ]
     },
     "metadata": {},
     "output_type": "display_data"
    },
    {
     "name": "stdout",
     "output_type": "stream",
     "text": [
      "Validation set:\n"
     ]
    },
    {
     "data": {
      "text/plain": [
       "1    0.811715\n",
       "0    0.188285\n",
       "Name: loan_status, dtype: float64"
      ]
     },
     "metadata": {},
     "output_type": "display_data"
    },
    {
     "name": "stdout",
     "output_type": "stream",
     "text": [
      "Test set:\n"
     ]
    },
    {
     "data": {
      "text/plain": [
       "1    0.809109\n",
       "0    0.190891\n",
       "Name: loan_status, dtype: float64"
      ]
     },
     "metadata": {},
     "output_type": "display_data"
    }
   ],
   "source": [
    "# Split the rows into train/validation/test sets\n",
    "random_state = 42\n",
    "training_frac = 0.9\n",
    "valid_frac = 0.05\n",
    "\n",
    "train_idx = int(training_frac*len(loans_df))\n",
    "valid_idx = int((training_frac+valid_frac)*len(loans_df))\n",
    "print(f'train_idx = {train_idx}')\n",
    "print(f'valid_idx = {valid_idx}')\n",
    "\n",
    "loans_df = loans_df.sample(frac=1, random_state=random_state)\n",
    "loans_df_training = loans_df.iloc[0:train_idx]\n",
    "loans_df_validation = loans_df.iloc[train_idx:valid_idx]\n",
    "loans_df_test = loans_df.iloc[valid_idx:]\n",
    "\n",
    "print('Training set:')\n",
    "display(loans_df_training['loan_status'].value_counts()/len(loans_df_training))\n",
    "print('Validation set:')\n",
    "display(loans_df_validation['loan_status'].value_counts()/len(loans_df_validation))\n",
    "print('Test set:')\n",
    "display(loans_df_test['loan_status'].value_counts()/len(loans_df_test))"
   ]
  },
  {
   "cell_type": "code",
   "execution_count": 32,
   "metadata": {},
   "outputs": [
    {
     "data": {
      "text/html": [
       "<div>\n",
       "<style scoped>\n",
       "    .dataframe tbody tr th:only-of-type {\n",
       "        vertical-align: middle;\n",
       "    }\n",
       "\n",
       "    .dataframe tbody tr th {\n",
       "        vertical-align: top;\n",
       "    }\n",
       "\n",
       "    .dataframe thead th {\n",
       "        text-align: right;\n",
       "    }\n",
       "</style>\n",
       "<table border=\"1\" class=\"dataframe\">\n",
       "  <thead>\n",
       "    <tr style=\"text-align: right;\">\n",
       "      <th></th>\n",
       "      <th>loan_amnt</th>\n",
       "      <th>int_rate</th>\n",
       "      <th>installment</th>\n",
       "      <th>sub_grade</th>\n",
       "      <th>emp_length_year</th>\n",
       "      <th>annual_inc</th>\n",
       "      <th>issue_d</th>\n",
       "      <th>loan_status</th>\n",
       "      <th>dti</th>\n",
       "      <th>earliest_cr_line</th>\n",
       "      <th>...</th>\n",
       "      <th>addr_state_sd</th>\n",
       "      <th>addr_state_dc</th>\n",
       "      <th>addr_state_ne</th>\n",
       "      <th>addr_state_ia</th>\n",
       "      <th>addr_state_ms</th>\n",
       "      <th>addr_state_id</th>\n",
       "      <th>addr_state_me</th>\n",
       "      <th>addr_state_nd</th>\n",
       "      <th>application_type_individual</th>\n",
       "      <th>application_type_joint app</th>\n",
       "    </tr>\n",
       "  </thead>\n",
       "  <tbody>\n",
       "    <tr>\n",
       "      <th>2145695</th>\n",
       "      <td>8725.0</td>\n",
       "      <td>0.1757</td>\n",
       "      <td>313.56</td>\n",
       "      <td>18</td>\n",
       "      <td>8</td>\n",
       "      <td>19000.0</td>\n",
       "      <td>2015-05-01</td>\n",
       "      <td>1</td>\n",
       "      <td>25.33</td>\n",
       "      <td>2008-06-01</td>\n",
       "      <td>...</td>\n",
       "      <td>0</td>\n",
       "      <td>0</td>\n",
       "      <td>0</td>\n",
       "      <td>0</td>\n",
       "      <td>0</td>\n",
       "      <td>0</td>\n",
       "      <td>0</td>\n",
       "      <td>0</td>\n",
       "      <td>1</td>\n",
       "      <td>0</td>\n",
       "    </tr>\n",
       "    <tr>\n",
       "      <th>2720005</th>\n",
       "      <td>22325.0</td>\n",
       "      <td>0.1999</td>\n",
       "      <td>829.57</td>\n",
       "      <td>18</td>\n",
       "      <td>0</td>\n",
       "      <td>62000.0</td>\n",
       "      <td>2016-10-01</td>\n",
       "      <td>1</td>\n",
       "      <td>23.71</td>\n",
       "      <td>2003-08-01</td>\n",
       "      <td>...</td>\n",
       "      <td>0</td>\n",
       "      <td>0</td>\n",
       "      <td>0</td>\n",
       "      <td>0</td>\n",
       "      <td>0</td>\n",
       "      <td>0</td>\n",
       "      <td>0</td>\n",
       "      <td>0</td>\n",
       "      <td>1</td>\n",
       "      <td>0</td>\n",
       "    </tr>\n",
       "    <tr>\n",
       "      <th>300896</th>\n",
       "      <td>6500.0</td>\n",
       "      <td>0.1359</td>\n",
       "      <td>220.87</td>\n",
       "      <td>11</td>\n",
       "      <td>3</td>\n",
       "      <td>38000.0</td>\n",
       "      <td>2017-08-01</td>\n",
       "      <td>0</td>\n",
       "      <td>18.68</td>\n",
       "      <td>2008-04-01</td>\n",
       "      <td>...</td>\n",
       "      <td>0</td>\n",
       "      <td>0</td>\n",
       "      <td>0</td>\n",
       "      <td>0</td>\n",
       "      <td>0</td>\n",
       "      <td>0</td>\n",
       "      <td>0</td>\n",
       "      <td>0</td>\n",
       "      <td>1</td>\n",
       "      <td>0</td>\n",
       "    </tr>\n",
       "    <tr>\n",
       "      <th>2691428</th>\n",
       "      <td>36400.0</td>\n",
       "      <td>0.1899</td>\n",
       "      <td>1334.10</td>\n",
       "      <td>17</td>\n",
       "      <td>6</td>\n",
       "      <td>80000.0</td>\n",
       "      <td>2016-10-01</td>\n",
       "      <td>1</td>\n",
       "      <td>28.73</td>\n",
       "      <td>2007-10-01</td>\n",
       "      <td>...</td>\n",
       "      <td>0</td>\n",
       "      <td>0</td>\n",
       "      <td>0</td>\n",
       "      <td>0</td>\n",
       "      <td>0</td>\n",
       "      <td>0</td>\n",
       "      <td>0</td>\n",
       "      <td>0</td>\n",
       "      <td>1</td>\n",
       "      <td>0</td>\n",
       "    </tr>\n",
       "    <tr>\n",
       "      <th>2457569</th>\n",
       "      <td>12000.0</td>\n",
       "      <td>0.1446</td>\n",
       "      <td>412.82</td>\n",
       "      <td>13</td>\n",
       "      <td>10</td>\n",
       "      <td>35000.0</td>\n",
       "      <td>2016-05-01</td>\n",
       "      <td>1</td>\n",
       "      <td>25.58</td>\n",
       "      <td>2003-06-01</td>\n",
       "      <td>...</td>\n",
       "      <td>0</td>\n",
       "      <td>0</td>\n",
       "      <td>0</td>\n",
       "      <td>0</td>\n",
       "      <td>0</td>\n",
       "      <td>0</td>\n",
       "      <td>0</td>\n",
       "      <td>0</td>\n",
       "      <td>0</td>\n",
       "      <td>1</td>\n",
       "    </tr>\n",
       "  </tbody>\n",
       "</table>\n",
       "<p>5 rows × 97 columns</p>\n",
       "</div>"
      ],
      "text/plain": [
       "         loan_amnt  int_rate  installment  sub_grade  emp_length_year  \\\n",
       "2145695     8725.0    0.1757       313.56         18                8   \n",
       "2720005    22325.0    0.1999       829.57         18                0   \n",
       "300896      6500.0    0.1359       220.87         11                3   \n",
       "2691428    36400.0    0.1899      1334.10         17                6   \n",
       "2457569    12000.0    0.1446       412.82         13               10   \n",
       "\n",
       "         annual_inc    issue_d  loan_status    dti earliest_cr_line  ...  \\\n",
       "2145695     19000.0 2015-05-01            1  25.33       2008-06-01  ...   \n",
       "2720005     62000.0 2016-10-01            1  23.71       2003-08-01  ...   \n",
       "300896      38000.0 2017-08-01            0  18.68       2008-04-01  ...   \n",
       "2691428     80000.0 2016-10-01            1  28.73       2007-10-01  ...   \n",
       "2457569     35000.0 2016-05-01            1  25.58       2003-06-01  ...   \n",
       "\n",
       "         addr_state_sd  addr_state_dc  addr_state_ne  addr_state_ia  \\\n",
       "2145695              0              0              0              0   \n",
       "2720005              0              0              0              0   \n",
       "300896               0              0              0              0   \n",
       "2691428              0              0              0              0   \n",
       "2457569              0              0              0              0   \n",
       "\n",
       "         addr_state_ms  addr_state_id  addr_state_me  addr_state_nd  \\\n",
       "2145695              0              0              0              0   \n",
       "2720005              0              0              0              0   \n",
       "300896               0              0              0              0   \n",
       "2691428              0              0              0              0   \n",
       "2457569              0              0              0              0   \n",
       "\n",
       "         application_type_individual application_type_joint app  \n",
       "2145695                            1                          0  \n",
       "2720005                            1                          0  \n",
       "300896                             1                          0  \n",
       "2691428                            1                          0  \n",
       "2457569                            0                          1  \n",
       "\n",
       "[5 rows x 97 columns]"
      ]
     },
     "execution_count": 32,
     "metadata": {},
     "output_type": "execute_result"
    }
   ],
   "source": [
    "loans_df.head()"
   ]
  },
  {
   "cell_type": "markdown",
   "metadata": {},
   "source": [
    "## Choosing a loss function:\n",
    "In this example, we are trying to predict whether the loan will be paid in full vs charged off. The default measure for the  loss in optimizing the parameters in a classification problem is cross entropy. The cross entropy is measured through the identification of the loan status. However, this doesn't necesserily reflect the loss of the lender for incorrect identification. Here, we define the loss function in terms of average money lost due to charged off accounts."
   ]
  },
  {
   "cell_type": "code",
   "execution_count": 33,
   "metadata": {},
   "outputs": [],
   "source": [
    "# Classes:\n",
    "# Fully Paid == 1\n",
    "# Charged Off == 0\n",
    "num_classes = 2\n",
    "\n",
    "# Define inputs (X) and outputs (Y) for each set of samples\n",
    "Y_train = to_categorical(loans_df_training['loan_status'], num_classes)\n",
    "Y_valid = to_categorical(loans_df_validation['loan_status'], num_classes)\n",
    "Y_test = to_categorical(loans_df_test['loan_status'], num_classes)\n",
    "\n",
    "# Drop dates\n",
    "drop_dates = []\n",
    "for (ix, typ) in enumerate(loans_df.dtypes):\n",
    "    if (typ == '<M8[ns]'):\n",
    "        drop_dates.append(loans_df.columns[ix])\n",
    "\n",
    "X_train = loans_df_training.drop(columns=drop_dates).to_numpy().astype('float32')\n",
    "X_valid = loans_df_validation.drop(columns=drop_dates).to_numpy().astype('float32')\n",
    "X_test = loans_df_test.drop(columns=drop_dates).to_numpy().astype('float32')"
   ]
  },
  {
   "cell_type": "code",
   "execution_count": 34,
   "metadata": {},
   "outputs": [
    {
     "name": "stdout",
     "output_type": "stream",
     "text": [
      "Number of Features: 94\n"
     ]
    }
   ],
   "source": [
    "# Number of features are number of columns - 1 (from the output)\n",
    "num_features = X_train.shape[1]\n",
    "print(f'Number of Features: {num_features}')\n"
   ]
  },
  {
   "cell_type": "code",
   "execution_count": 35,
   "metadata": {},
   "outputs": [
    {
     "name": "stdout",
     "output_type": "stream",
     "text": [
      "Model: \"sequential\"\n",
      "_________________________________________________________________\n",
      "Layer (type)                 Output Shape              Param #   \n",
      "=================================================================\n",
      "dense (Dense)                (None, 128)               12160     \n",
      "_________________________________________________________________\n",
      "dense_1 (Dense)              (None, 128)               16512     \n",
      "_________________________________________________________________\n",
      "dense_2 (Dense)              (None, 2)                 258       \n",
      "=================================================================\n",
      "Total params: 28,930\n",
      "Trainable params: 28,930\n",
      "Non-trainable params: 0\n",
      "_________________________________________________________________\n"
     ]
    }
   ],
   "source": [
    "# Create the model\n",
    "input_shape = (num_features,)\n",
    "\n",
    "model = Sequential()\n",
    "model.add(Dense(128, input_shape=input_shape, activation='relu'))\n",
    "model.add(Dense(128, activation='relu'))\n",
    "model.add(Dense(num_classes, activation='sigmoid'))\n",
    "\n",
    "model.summary()"
   ]
  },
  {
   "cell_type": "code",
   "execution_count": 36,
   "metadata": {
    "scrolled": true
   },
   "outputs": [
    {
     "name": "stdout",
     "output_type": "stream",
     "text": [
      "Epoch 1/50\n",
      "1499/1499 [==============================] - 8s 6ms/step - loss: 71.3970 - accuracy: 0.9320 - val_loss: 15.7243 - val_accuracy: 0.9715\n",
      "Epoch 2/50\n",
      "1499/1499 [==============================] - 9s 6ms/step - loss: 25.3564 - accuracy: 0.9607 - val_loss: 11.3457 - val_accuracy: 0.9677\n",
      "Epoch 3/50\n",
      "1499/1499 [==============================] - 10s 7ms/step - loss: 21.4821 - accuracy: 0.9581 - val_loss: 13.5279 - val_accuracy: 0.9654\n",
      "Epoch 4/50\n",
      "1499/1499 [==============================] - 6s 4ms/step - loss: 10.3033 - accuracy: 0.9644 - val_loss: 9.3286 - val_accuracy: 0.9647\n",
      "Epoch 5/50\n",
      "1499/1499 [==============================] - 6s 4ms/step - loss: 7.6157 - accuracy: 0.9653 - val_loss: 2.5031 - val_accuracy: 0.9737\n",
      "Epoch 6/50\n",
      "1499/1499 [==============================] - 6s 4ms/step - loss: 4.4642 - accuracy: 0.9676 - val_loss: 6.5239 - val_accuracy: 0.9696\n",
      "Epoch 7/50\n",
      "1499/1499 [==============================] - 6s 4ms/step - loss: 2.4799 - accuracy: 0.9692 - val_loss: 1.2813 - val_accuracy: 0.9749\n",
      "Epoch 8/50\n",
      "1499/1499 [==============================] - 7s 5ms/step - loss: 1.0391 - accuracy: 0.9706 - val_loss: 0.4197 - val_accuracy: 0.9742\n",
      "Epoch 9/50\n",
      "1499/1499 [==============================] - 7s 5ms/step - loss: 0.4382 - accuracy: 0.9696 - val_loss: 0.3588 - val_accuracy: 0.9665\n",
      "Epoch 10/50\n",
      "1499/1499 [==============================] - 7s 4ms/step - loss: 0.2758 - accuracy: 0.9617 - val_loss: 0.1500 - val_accuracy: 0.9647\n",
      "Epoch 11/50\n",
      "1499/1499 [==============================] - 6s 4ms/step - loss: 0.1632 - accuracy: 0.9693 - val_loss: 0.1821 - val_accuracy: 0.9719\n",
      "Epoch 12/50\n",
      "1499/1499 [==============================] - 6s 4ms/step - loss: 0.1235 - accuracy: 0.9788 - val_loss: 0.0923 - val_accuracy: 0.9793\n",
      "Epoch 13/50\n",
      "1499/1499 [==============================] - 8s 5ms/step - loss: 0.0946 - accuracy: 0.9799 - val_loss: 0.0992 - val_accuracy: 0.9786\n",
      "Epoch 14/50\n",
      "1499/1499 [==============================] - 6s 4ms/step - loss: 0.1046 - accuracy: 0.9786 - val_loss: 0.1358 - val_accuracy: 0.9810\n",
      "Epoch 15/50\n",
      "1499/1499 [==============================] - 6s 4ms/step - loss: 0.1721 - accuracy: 0.9730 - val_loss: 0.2219 - val_accuracy: 0.9471\n",
      "Epoch 16/50\n",
      "1499/1499 [==============================] - 6s 4ms/step - loss: 0.0979 - accuracy: 0.9791 - val_loss: 0.1250 - val_accuracy: 0.9802\n",
      "Epoch 17/50\n",
      "1499/1499 [==============================] - 7s 4ms/step - loss: 0.2202 - accuracy: 0.9435 - val_loss: 0.1250 - val_accuracy: 0.9735\n",
      "Epoch 18/50\n",
      "1499/1499 [==============================] - 6s 4ms/step - loss: 0.1028 - accuracy: 0.9782 - val_loss: 0.0952 - val_accuracy: 0.9812\n",
      "Epoch 19/50\n",
      "1499/1499 [==============================] - 7s 4ms/step - loss: 0.1127 - accuracy: 0.9748 - val_loss: 0.1823 - val_accuracy: 0.9524\n",
      "Epoch 20/50\n",
      "1499/1499 [==============================] - 7s 4ms/step - loss: 0.0936 - accuracy: 0.9789 - val_loss: 0.0906 - val_accuracy: 0.9810\n",
      "Epoch 21/50\n",
      "1499/1499 [==============================] - 7s 5ms/step - loss: 0.0903 - accuracy: 0.9800 - val_loss: 0.1035 - val_accuracy: 0.9765\n",
      "Epoch 22/50\n",
      "1499/1499 [==============================] - 7s 4ms/step - loss: 0.0927 - accuracy: 0.9793 - val_loss: 0.0944 - val_accuracy: 0.9790\n",
      "Epoch 23/50\n",
      "1499/1499 [==============================] - 7s 5ms/step - loss: 0.0930 - accuracy: 0.9790 - val_loss: 0.0936 - val_accuracy: 0.9792\n",
      "Epoch 24/50\n",
      "1499/1499 [==============================] - 7s 4ms/step - loss: 0.1044 - accuracy: 0.9757 - val_loss: 0.0933 - val_accuracy: 0.9785\n",
      "Epoch 25/50\n",
      "1499/1499 [==============================] - 7s 5ms/step - loss: 0.0922 - accuracy: 0.9790 - val_loss: 0.0858 - val_accuracy: 0.9821\n",
      "Epoch 26/50\n",
      "1499/1499 [==============================] - 7s 5ms/step - loss: 0.0983 - accuracy: 0.9772 - val_loss: 0.1090 - val_accuracy: 0.9747\n",
      "Epoch 27/50\n",
      "1499/1499 [==============================] - 7s 5ms/step - loss: 0.0929 - accuracy: 0.9788 - val_loss: 0.0902 - val_accuracy: 0.9802\n",
      "Epoch 28/50\n",
      "1499/1499 [==============================] - 6s 4ms/step - loss: 0.0902 - accuracy: 0.9796 - val_loss: 0.0917 - val_accuracy: 0.9800\n",
      "Epoch 29/50\n",
      "1499/1499 [==============================] - 6s 4ms/step - loss: 0.0937 - accuracy: 0.9787 - val_loss: 0.0875 - val_accuracy: 0.9813\n",
      "Epoch 30/50\n",
      "1499/1499 [==============================] - 6s 4ms/step - loss: 0.0936 - accuracy: 0.9787 - val_loss: 0.0914 - val_accuracy: 0.9800\n",
      "Epoch 31/50\n",
      "1499/1499 [==============================] - 9s 6ms/step - loss: 0.0930 - accuracy: 0.9786 - val_loss: 0.1119 - val_accuracy: 0.9682\n",
      "Epoch 32/50\n",
      "1499/1499 [==============================] - 7s 5ms/step - loss: 0.0969 - accuracy: 0.9775 - val_loss: 0.1451 - val_accuracy: 0.9650\n",
      "Epoch 33/50\n",
      "1499/1499 [==============================] - 7s 4ms/step - loss: 0.1030 - accuracy: 0.9755 - val_loss: 0.2528 - val_accuracy: 0.9259\n",
      "Epoch 34/50\n",
      "1499/1499 [==============================] - 6s 4ms/step - loss: 0.1141 - accuracy: 0.9771 - val_loss: 0.1093 - val_accuracy: 0.9791\n",
      "Epoch 35/50\n",
      "1499/1499 [==============================] - 6s 4ms/step - loss: 0.0956 - accuracy: 0.9802 - val_loss: 0.0868 - val_accuracy: 0.9815\n",
      "Epoch 36/50\n",
      "1499/1499 [==============================] - 7s 5ms/step - loss: 0.1037 - accuracy: 0.9757 - val_loss: 0.1195 - val_accuracy: 0.9692\n",
      "Epoch 37/50\n",
      "1499/1499 [==============================] - 6s 4ms/step - loss: 0.0874 - accuracy: 0.9801 - val_loss: 0.0896 - val_accuracy: 0.9806\n",
      "Epoch 38/50\n",
      "1499/1499 [==============================] - 7s 4ms/step - loss: 0.0930 - accuracy: 0.9791 - val_loss: 0.0965 - val_accuracy: 0.9782\n",
      "Epoch 39/50\n",
      "1499/1499 [==============================] - 6s 4ms/step - loss: 0.0977 - accuracy: 0.9770 - val_loss: 0.0850 - val_accuracy: 0.9819\n",
      "Epoch 40/50\n",
      "1499/1499 [==============================] - ETA: 0s - loss: 0.0887 - accuracy: 0.98 - 7s 5ms/step - loss: 0.0887 - accuracy: 0.9803 - val_loss: 0.0860 - val_accuracy: 0.9810\n",
      "Epoch 41/50\n",
      "1499/1499 [==============================] - 7s 5ms/step - loss: 0.0977 - accuracy: 0.9773 - val_loss: 0.0883 - val_accuracy: 0.9801\n",
      "Epoch 42/50\n",
      "1499/1499 [==============================] - 8s 5ms/step - loss: 0.0945 - accuracy: 0.9783 - val_loss: 0.2491 - val_accuracy: 0.9320\n",
      "Epoch 43/50\n",
      "1499/1499 [==============================] - 7s 5ms/step - loss: 0.0985 - accuracy: 0.9767 - val_loss: 0.0862 - val_accuracy: 0.9811\n",
      "Epoch 44/50\n",
      "1499/1499 [==============================] - 7s 5ms/step - loss: 0.1019 - accuracy: 0.9762 - val_loss: 0.1131 - val_accuracy: 0.9728\n",
      "Epoch 45/50\n",
      "1499/1499 [==============================] - 7s 5ms/step - loss: 0.0880 - accuracy: 0.9800 - val_loss: 0.0926 - val_accuracy: 0.9773\n",
      "Epoch 46/50\n",
      "1499/1499 [==============================] - 7s 5ms/step - loss: 0.0933 - accuracy: 0.9790 - val_loss: 0.0840 - val_accuracy: 0.9822\n",
      "Epoch 47/50\n",
      "1499/1499 [==============================] - 7s 5ms/step - loss: 0.0961 - accuracy: 0.9773 - val_loss: 0.0849 - val_accuracy: 0.9813\n",
      "Epoch 48/50\n",
      "1499/1499 [==============================] - 9s 6ms/step - loss: 0.0883 - accuracy: 0.9800 - val_loss: 0.0863 - val_accuracy: 0.9814\n",
      "Epoch 49/50\n",
      "1499/1499 [==============================] - 8s 5ms/step - loss: 0.0980 - accuracy: 0.9772 - val_loss: 0.0860 - val_accuracy: 0.9808\n",
      "Epoch 50/50\n",
      "1499/1499 [==============================] - 7s 5ms/step - loss: 0.0954 - accuracy: 0.9774 - val_loss: 0.0860 - val_accuracy: 0.9802\n"
     ]
    }
   ],
   "source": [
    "# Configure model and start training\n",
    "model.compile(loss='binary_crossentropy', optimizer='adam', metrics=['accuracy'])\n",
    "history = model.fit(X_train, Y_train, epochs=50, batch_size=1000, verbose=1, validation_data=(X_valid, Y_valid))"
   ]
  },
  {
   "cell_type": "code",
   "execution_count": 37,
   "metadata": {},
   "outputs": [],
   "source": [
    "Y_train_predict = (model.predict(X_train) > 0.5).astype('float32')\n",
    "Y_test_predict = (model.predict(X_test) > 0.5).astype('float32')\n",
    "Y_valid_predict = (model.predict(X_valid) > 0.5).astype('float32')"
   ]
  },
  {
   "cell_type": "code",
   "execution_count": 38,
   "metadata": {},
   "outputs": [
    {
     "name": "stdout",
     "output_type": "stream",
     "text": [
      "Training set miss: [0.96385904 0.96405921]%\n",
      "Validation set miss: [0.99084817 0.99144868]%\n",
      "Test set miss: [0.96442555 0.96622709]%\n"
     ]
    }
   ],
   "source": [
    "train_miss = np.abs((Y_train_predict - Y_train)).sum(axis=0)/2/len(Y_train)*100\n",
    "validation_miss = np.abs((Y_valid_predict - Y_valid)).sum(axis=0)/2/len(Y_valid)*100\n",
    "test_miss = np.abs((Y_test_predict - Y_test)).sum(axis=0)/2/len(Y_test)*100\n",
    "\n",
    "print(f'Training set miss: {train_miss}%')\n",
    "print(f'Validation set miss: {validation_miss}%')\n",
    "print(f'Test set miss: {test_miss}%')"
   ]
  },
  {
   "cell_type": "code",
   "execution_count": 40,
   "metadata": {},
   "outputs": [
    {
     "name": "stdout",
     "output_type": "stream",
     "text": [
      "The model precision: ChargedOff-88%, FullyPaid-97%\n",
      "The model recall: ChargedOff-89%, FullyPaid-97%\n",
      "TP: 12992.0 -- FP: 1606.0\n",
      "FN: 1609.0 -- TN: 67058.0\n"
     ]
    }
   ],
   "source": [
    "num_of_test_class = Y_test.sum(axis=0)\n",
    "num_of_test_predict_class = Y_test_predict.sum(axis=0)\n",
    "num_of_test_miss = np.abs((Y_test_predict - Y_test)).sum(axis=0)\n",
    "recall_test = 1 - (num_of_test_miss)/num_of_test_class\n",
    "precision_test = 1 - (num_of_test_miss)/num_of_test_predict_class\n",
    "print(\"The model precision: ChargedOff-%d%%, FullyPaid-%d%%\" % (precision_test[0]*100, precision_test[1]*100))\n",
    "print(\"The model recall: ChargedOff-%d%%, FullyPaid-%d%%\" % (recall_test[0]*100,recall_test[1]*100))\n",
    "\n",
    "FP = num_of_test_miss[0]\n",
    "TP = num_of_test_predict_class[0] - FP\n",
    "FN = num_of_test_miss[1]\n",
    "TN = num_of_test_predict_class[1] - FN\n",
    "\n",
    "print(f'TP: {TP} -- FP: {FP}')\n",
    "print(f'FN: {FN} -- TN: {TN}')"
   ]
  },
  {
   "cell_type": "code",
   "execution_count": 41,
   "metadata": {},
   "outputs": [
    {
     "name": "stdout",
     "output_type": "stream",
     "text": [
      "F1 score:\n",
      "\tCharged off-89%, Fully paid-97%\n"
     ]
    }
   ],
   "source": [
    "f1_score = 2/(1/recall_test + 1/precision_test)\n",
    "print(f'F1 score:')\n",
    "print(f'\\tCharged off-{int(f1_score[0]*100)}%, Fully paid-{int(f1_score[1]*100)}%' )"
   ]
  }
 ],
 "metadata": {
  "kernelspec": {
   "display_name": "Python 3",
   "language": "python",
   "name": "python3"
  },
  "language_info": {
   "codemirror_mode": {
    "name": "ipython",
    "version": 3
   },
   "file_extension": ".py",
   "mimetype": "text/x-python",
   "name": "python",
   "nbconvert_exporter": "python",
   "pygments_lexer": "ipython3",
   "version": "3.8.5"
  }
 },
 "nbformat": 4,
 "nbformat_minor": 4
}
